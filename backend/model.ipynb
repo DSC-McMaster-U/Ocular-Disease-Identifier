{
  "nbformat": 4,
  "nbformat_minor": 0,
  "metadata": {
    "colab": {
      "provenance": []
    },
    "kernelspec": {
      "name": "python3",
      "display_name": "Python 3"
    },
    "language_info": {
      "name": "python"
    }
  },
  "cells": [
    {
      "cell_type": "code",
      "execution_count": 8,
      "metadata": {
        "id": "XGYX1TRkbAEE"
      },
      "outputs": [],
      "source": [
        "import tensorflow as tf\n",
        "from keras import layers, models\n",
        "from sklearn.model_selection import train_test_split\n",
        "import pandas as pd\n",
        "import numpy as np\n",
        "import matplotlib.pyplot as plt"
      ]
    },
    {
      "cell_type": "code",
      "source": [
        "input_size = np.array([0,0,0]) # size of input data"
      ],
      "metadata": {
        "id": "advCZ3AxbOI_"
      },
      "execution_count": 5,
      "outputs": []
    },
    {
      "cell_type": "code",
      "source": [
        "model = models.Sequential([\n",
        "    layers.Input(input_shape=input_size), # input layer\n",
        "\n",
        "    # add hidden layers here\n",
        "\n",
        "    # Convolutional layer 1\n",
        "    layers.Conv2D(128, (3, 3), activation='relu'),\n",
        "\n",
        "    #Pooling Layer\n",
        "    layers.MaxPooling2D((2, 2)),\n",
        "\n",
        "    # Convolutional layer 2\n",
        "    layers.Conv2D(64, (3, 3), activation='relu'),\n",
        "\n",
        "    layers.Flatten(),\n",
        "\n",
        "    layers.Dense(1, activation='sigmoid') # output layer, sigmoid function for binary classification\n",
        "])"
      ],
      "metadata": {
        "id": "H69hMjRGbRBE"
      },
      "execution_count": null,
      "outputs": []
    },
    {
      "cell_type": "code",
      "source": [
        "\n",
        "# compile model\n",
        "model.compile(optimizer='adam', loss='binary_crossentropy', metrics=['accuracy'])\n",
        "\n",
        "# train model, data is needed for this step\n",
        "# model.fit(x_train, y_train, epochs=10, batch_size=32, validation_data=(x_test, y_test))"
      ],
      "metadata": {
        "id": "7UAQsZK2bYsm"
      },
      "execution_count": null,
      "outputs": []
    }
  ]
}